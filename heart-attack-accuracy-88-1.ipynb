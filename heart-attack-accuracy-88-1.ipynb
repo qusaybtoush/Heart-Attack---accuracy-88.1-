{
 "cells": [
  {
   "cell_type": "markdown",
   "id": "70a1e9b8",
   "metadata": {
    "papermill": {
     "duration": 0.03417,
     "end_time": "2022-05-02T01:27:12.182555",
     "exception": false,
     "start_time": "2022-05-02T01:27:12.148385",
     "status": "completed"
    },
    "tags": []
   },
   "source": [
    "# Introduction 😃😃😃\n",
    "\n",
    "\n",
    "## Heart Attack Analysis & Prediction Dataset\n",
    "\n",
    "- A dataset for heart attack classification\n",
    "\n",
    "\n",
    "### About this dataset\n",
    "\n",
    "- Age : Age of the patient\n",
    "- Sex : Sex of the patient\n",
    "- exang: exercise induced angina (1 = yes; 0 = no)\n",
    "- ca: number of major vessels (0-3)\n",
    "- cp : Chest Pain type chest pain type\n",
    "\n",
    "- Value 1: typical angina\n",
    "- Value 2: atypical angina\n",
    "- Value 3: non-anginal pain\n",
    "- Value 4: asymptomatic\n",
    "\n",
    "\n",
    "- trtbps : resting blood pressure (in mm Hg)\n",
    "- chol : cholestoral in mg/dl fetched via BMI sensor\n",
    "- fbs : (fasting blood sugar > 120 mg/dl) (1 = true; 0 = false)\n",
    "- rest_ecg : resting electrocardiographic results\n",
    "\n",
    "- Value 0: normal\n",
    "- Value 1: having ST-T wave abnormality (T wave inversions and/or ST elevation or depression of > 0.05 mV)\n",
    "- Value 2: showing probable or definite left ventricular hypertrophy by Estes' criteria\n",
    "- thalach : maximum heart rate achieved\n",
    "\n",
    "- target : 0= less chance of heart attack 1= more chance of heart attack\n",
    "\n",
    "\n",
    "\n",
    "# Work plan 🤝🤝🤝🤝🤝\n",
    "\n",
    "- 1- Data Exploration & Analysis 🤝🤝🤝\n",
    "- 2- Building a Machine Learning Model / classification score Volume"
   ]
  },
  {
   "cell_type": "markdown",
   "id": "78f84b88",
   "metadata": {
    "papermill": {
     "duration": 0.032174,
     "end_time": "2022-05-02T01:27:12.247331",
     "exception": false,
     "start_time": "2022-05-02T01:27:12.215157",
     "status": "completed"
    },
    "tags": []
   },
   "source": [
    "# Data Exploration & Analysis 🤝🤝🤝"
   ]
  },
  {
   "cell_type": "code",
   "execution_count": 1,
   "id": "3fa88e20",
   "metadata": {
    "execution": {
     "iopub.execute_input": "2022-05-02T01:27:12.315387Z",
     "iopub.status.busy": "2022-05-02T01:27:12.315015Z",
     "iopub.status.idle": "2022-05-02T01:27:14.812419Z",
     "shell.execute_reply": "2022-05-02T01:27:14.811435Z"
    },
    "papermill": {
     "duration": 2.534623,
     "end_time": "2022-05-02T01:27:14.815095",
     "exception": false,
     "start_time": "2022-05-02T01:27:12.280472",
     "status": "completed"
    },
    "tags": []
   },
   "outputs": [],
   "source": [
    "#Importing the basic librarires fot analysis\n",
    "\n",
    "import numpy as np\n",
    "import pandas as pd\n",
    "import seaborn as sns\n",
    "import matplotlib.pyplot as plt\n",
    "plt.style.use(\"ggplot\")  #using style ggplot\n",
    "\n",
    "%matplotlib inline\n",
    "import plotly.graph_objects as go\n",
    "import plotly.express as px"
   ]
  },
  {
   "cell_type": "code",
   "execution_count": 2,
   "id": "b3d807c9",
   "metadata": {
    "execution": {
     "iopub.execute_input": "2022-05-02T01:27:14.884132Z",
     "iopub.status.busy": "2022-05-02T01:27:14.883311Z",
     "iopub.status.idle": "2022-05-02T01:27:14.924711Z",
     "shell.execute_reply": "2022-05-02T01:27:14.923621Z"
    },
    "papermill": {
     "duration": 0.078011,
     "end_time": "2022-05-02T01:27:14.926981",
     "exception": false,
     "start_time": "2022-05-02T01:27:14.848970",
     "status": "completed"
    },
    "tags": []
   },
   "outputs": [
    {
     "data": {
      "text/html": [
       "<div>\n",
       "<style scoped>\n",
       "    .dataframe tbody tr th:only-of-type {\n",
       "        vertical-align: middle;\n",
       "    }\n",
       "\n",
       "    .dataframe tbody tr th {\n",
       "        vertical-align: top;\n",
       "    }\n",
       "\n",
       "    .dataframe thead th {\n",
       "        text-align: right;\n",
       "    }\n",
       "</style>\n",
       "<table border=\"1\" class=\"dataframe\">\n",
       "  <thead>\n",
       "    <tr style=\"text-align: right;\">\n",
       "      <th></th>\n",
       "      <th>age</th>\n",
       "      <th>sex</th>\n",
       "      <th>cp</th>\n",
       "      <th>trtbps</th>\n",
       "      <th>chol</th>\n",
       "      <th>fbs</th>\n",
       "      <th>restecg</th>\n",
       "      <th>thalachh</th>\n",
       "      <th>exng</th>\n",
       "      <th>oldpeak</th>\n",
       "      <th>slp</th>\n",
       "      <th>caa</th>\n",
       "      <th>thall</th>\n",
       "      <th>output</th>\n",
       "    </tr>\n",
       "  </thead>\n",
       "  <tbody>\n",
       "    <tr>\n",
       "      <th>0</th>\n",
       "      <td>63</td>\n",
       "      <td>1</td>\n",
       "      <td>3</td>\n",
       "      <td>145</td>\n",
       "      <td>233</td>\n",
       "      <td>1</td>\n",
       "      <td>0</td>\n",
       "      <td>150</td>\n",
       "      <td>0</td>\n",
       "      <td>2.3</td>\n",
       "      <td>0</td>\n",
       "      <td>0</td>\n",
       "      <td>1</td>\n",
       "      <td>1</td>\n",
       "    </tr>\n",
       "    <tr>\n",
       "      <th>1</th>\n",
       "      <td>37</td>\n",
       "      <td>1</td>\n",
       "      <td>2</td>\n",
       "      <td>130</td>\n",
       "      <td>250</td>\n",
       "      <td>0</td>\n",
       "      <td>1</td>\n",
       "      <td>187</td>\n",
       "      <td>0</td>\n",
       "      <td>3.5</td>\n",
       "      <td>0</td>\n",
       "      <td>0</td>\n",
       "      <td>2</td>\n",
       "      <td>1</td>\n",
       "    </tr>\n",
       "    <tr>\n",
       "      <th>2</th>\n",
       "      <td>41</td>\n",
       "      <td>0</td>\n",
       "      <td>1</td>\n",
       "      <td>130</td>\n",
       "      <td>204</td>\n",
       "      <td>0</td>\n",
       "      <td>0</td>\n",
       "      <td>172</td>\n",
       "      <td>0</td>\n",
       "      <td>1.4</td>\n",
       "      <td>2</td>\n",
       "      <td>0</td>\n",
       "      <td>2</td>\n",
       "      <td>1</td>\n",
       "    </tr>\n",
       "    <tr>\n",
       "      <th>3</th>\n",
       "      <td>56</td>\n",
       "      <td>1</td>\n",
       "      <td>1</td>\n",
       "      <td>120</td>\n",
       "      <td>236</td>\n",
       "      <td>0</td>\n",
       "      <td>1</td>\n",
       "      <td>178</td>\n",
       "      <td>0</td>\n",
       "      <td>0.8</td>\n",
       "      <td>2</td>\n",
       "      <td>0</td>\n",
       "      <td>2</td>\n",
       "      <td>1</td>\n",
       "    </tr>\n",
       "    <tr>\n",
       "      <th>4</th>\n",
       "      <td>57</td>\n",
       "      <td>0</td>\n",
       "      <td>0</td>\n",
       "      <td>120</td>\n",
       "      <td>354</td>\n",
       "      <td>0</td>\n",
       "      <td>1</td>\n",
       "      <td>163</td>\n",
       "      <td>1</td>\n",
       "      <td>0.6</td>\n",
       "      <td>2</td>\n",
       "      <td>0</td>\n",
       "      <td>2</td>\n",
       "      <td>1</td>\n",
       "    </tr>\n",
       "  </tbody>\n",
       "</table>\n",
       "</div>"
      ],
      "text/plain": [
       "   age  sex  cp  trtbps  chol  fbs  restecg  thalachh  exng  oldpeak  slp  \\\n",
       "0   63    1   3     145   233    1        0       150     0      2.3    0   \n",
       "1   37    1   2     130   250    0        1       187     0      3.5    0   \n",
       "2   41    0   1     130   204    0        0       172     0      1.4    2   \n",
       "3   56    1   1     120   236    0        1       178     0      0.8    2   \n",
       "4   57    0   0     120   354    0        1       163     1      0.6    2   \n",
       "\n",
       "   caa  thall  output  \n",
       "0    0      1       1  \n",
       "1    0      2       1  \n",
       "2    0      2       1  \n",
       "3    0      2       1  \n",
       "4    0      2       1  "
      ]
     },
     "execution_count": 2,
     "metadata": {},
     "output_type": "execute_result"
    }
   ],
   "source": [
    "#Importing the dataset\n",
    "df =pd.read_csv(\"../input/heart-attack-analysis-prediction-dataset/heart.csv\")\n",
    "\n",
    "\n",
    "# look the data set\n",
    "df.head()"
   ]
  },
  {
   "cell_type": "code",
   "execution_count": 3,
   "id": "651aab77",
   "metadata": {
    "execution": {
     "iopub.execute_input": "2022-05-02T01:27:14.995973Z",
     "iopub.status.busy": "2022-05-02T01:27:14.995642Z",
     "iopub.status.idle": "2022-05-02T01:27:15.001182Z",
     "shell.execute_reply": "2022-05-02T01:27:15.000440Z"
    },
    "papermill": {
     "duration": 0.042626,
     "end_time": "2022-05-02T01:27:15.003483",
     "exception": false,
     "start_time": "2022-05-02T01:27:14.960857",
     "status": "completed"
    },
    "tags": []
   },
   "outputs": [
    {
     "data": {
      "text/plain": [
       "(303, 14)"
      ]
     },
     "execution_count": 3,
     "metadata": {},
     "output_type": "execute_result"
    }
   ],
   "source": [
    "# looking the shape DataSet\n",
    "df.shape"
   ]
  },
  {
   "cell_type": "code",
   "execution_count": 4,
   "id": "0ce9b18e",
   "metadata": {
    "execution": {
     "iopub.execute_input": "2022-05-02T01:27:15.072386Z",
     "iopub.status.busy": "2022-05-02T01:27:15.071919Z",
     "iopub.status.idle": "2022-05-02T01:27:15.100671Z",
     "shell.execute_reply": "2022-05-02T01:27:15.099356Z"
    },
    "papermill": {
     "duration": 0.067365,
     "end_time": "2022-05-02T01:27:15.104720",
     "exception": false,
     "start_time": "2022-05-02T01:27:15.037355",
     "status": "completed"
    },
    "tags": []
   },
   "outputs": [
    {
     "name": "stdout",
     "output_type": "stream",
     "text": [
      "<class 'pandas.core.frame.DataFrame'>\n",
      "RangeIndex: 303 entries, 0 to 302\n",
      "Data columns (total 14 columns):\n",
      " #   Column    Non-Null Count  Dtype  \n",
      "---  ------    --------------  -----  \n",
      " 0   age       303 non-null    int64  \n",
      " 1   sex       303 non-null    int64  \n",
      " 2   cp        303 non-null    int64  \n",
      " 3   trtbps    303 non-null    int64  \n",
      " 4   chol      303 non-null    int64  \n",
      " 5   fbs       303 non-null    int64  \n",
      " 6   restecg   303 non-null    int64  \n",
      " 7   thalachh  303 non-null    int64  \n",
      " 8   exng      303 non-null    int64  \n",
      " 9   oldpeak   303 non-null    float64\n",
      " 10  slp       303 non-null    int64  \n",
      " 11  caa       303 non-null    int64  \n",
      " 12  thall     303 non-null    int64  \n",
      " 13  output    303 non-null    int64  \n",
      "dtypes: float64(1), int64(13)\n",
      "memory usage: 33.3 KB\n"
     ]
    }
   ],
   "source": [
    "#Checking the dtypes of all the columns\n",
    "\n",
    "df.info()"
   ]
  },
  {
   "cell_type": "code",
   "execution_count": 5,
   "id": "9225598e",
   "metadata": {
    "execution": {
     "iopub.execute_input": "2022-05-02T01:27:15.178393Z",
     "iopub.status.busy": "2022-05-02T01:27:15.177634Z",
     "iopub.status.idle": "2022-05-02T01:27:15.186606Z",
     "shell.execute_reply": "2022-05-02T01:27:15.185606Z"
    },
    "papermill": {
     "duration": 0.047668,
     "end_time": "2022-05-02T01:27:15.189068",
     "exception": false,
     "start_time": "2022-05-02T01:27:15.141400",
     "status": "completed"
    },
    "tags": []
   },
   "outputs": [
    {
     "data": {
      "text/plain": [
       "age         0\n",
       "sex         0\n",
       "cp          0\n",
       "trtbps      0\n",
       "chol        0\n",
       "fbs         0\n",
       "restecg     0\n",
       "thalachh    0\n",
       "exng        0\n",
       "oldpeak     0\n",
       "slp         0\n",
       "caa         0\n",
       "thall       0\n",
       "output      0\n",
       "dtype: int64"
      ]
     },
     "execution_count": 5,
     "metadata": {},
     "output_type": "execute_result"
    }
   ],
   "source": [
    "#checking null value \n",
    "df.isna().sum()"
   ]
  },
  {
   "cell_type": "markdown",
   "id": "9919421f",
   "metadata": {
    "papermill": {
     "duration": 0.035105,
     "end_time": "2022-05-02T01:27:15.259768",
     "exception": false,
     "start_time": "2022-05-02T01:27:15.224663",
     "status": "completed"
    },
    "tags": []
   },
   "source": [
    "- No any missing value "
   ]
  },
  {
   "cell_type": "code",
   "execution_count": 6,
   "id": "9ac93567",
   "metadata": {
    "execution": {
     "iopub.execute_input": "2022-05-02T01:27:15.332927Z",
     "iopub.status.busy": "2022-05-02T01:27:15.332502Z",
     "iopub.status.idle": "2022-05-02T01:27:15.410600Z",
     "shell.execute_reply": "2022-05-02T01:27:15.409486Z"
    },
    "papermill": {
     "duration": 0.118021,
     "end_time": "2022-05-02T01:27:15.413007",
     "exception": false,
     "start_time": "2022-05-02T01:27:15.294986",
     "status": "completed"
    },
    "tags": []
   },
   "outputs": [
    {
     "data": {
      "text/html": [
       "<div>\n",
       "<style scoped>\n",
       "    .dataframe tbody tr th:only-of-type {\n",
       "        vertical-align: middle;\n",
       "    }\n",
       "\n",
       "    .dataframe tbody tr th {\n",
       "        vertical-align: top;\n",
       "    }\n",
       "\n",
       "    .dataframe thead th {\n",
       "        text-align: right;\n",
       "    }\n",
       "</style>\n",
       "<table border=\"1\" class=\"dataframe\">\n",
       "  <thead>\n",
       "    <tr style=\"text-align: right;\">\n",
       "      <th></th>\n",
       "      <th>age</th>\n",
       "      <th>sex</th>\n",
       "      <th>cp</th>\n",
       "      <th>trtbps</th>\n",
       "      <th>chol</th>\n",
       "      <th>fbs</th>\n",
       "      <th>restecg</th>\n",
       "      <th>thalachh</th>\n",
       "      <th>exng</th>\n",
       "      <th>oldpeak</th>\n",
       "      <th>slp</th>\n",
       "      <th>caa</th>\n",
       "      <th>thall</th>\n",
       "      <th>output</th>\n",
       "    </tr>\n",
       "  </thead>\n",
       "  <tbody>\n",
       "    <tr>\n",
       "      <th>count</th>\n",
       "      <td>303.00</td>\n",
       "      <td>303.00</td>\n",
       "      <td>303.00</td>\n",
       "      <td>303.00</td>\n",
       "      <td>303.00</td>\n",
       "      <td>303.00</td>\n",
       "      <td>303.00</td>\n",
       "      <td>303.00</td>\n",
       "      <td>303.00</td>\n",
       "      <td>303.00</td>\n",
       "      <td>303.00</td>\n",
       "      <td>303.00</td>\n",
       "      <td>303.00</td>\n",
       "      <td>303.00</td>\n",
       "    </tr>\n",
       "    <tr>\n",
       "      <th>mean</th>\n",
       "      <td>54.37</td>\n",
       "      <td>0.68</td>\n",
       "      <td>0.97</td>\n",
       "      <td>131.62</td>\n",
       "      <td>246.26</td>\n",
       "      <td>0.15</td>\n",
       "      <td>0.53</td>\n",
       "      <td>149.65</td>\n",
       "      <td>0.33</td>\n",
       "      <td>1.04</td>\n",
       "      <td>1.40</td>\n",
       "      <td>0.73</td>\n",
       "      <td>2.31</td>\n",
       "      <td>0.54</td>\n",
       "    </tr>\n",
       "    <tr>\n",
       "      <th>std</th>\n",
       "      <td>9.08</td>\n",
       "      <td>0.47</td>\n",
       "      <td>1.03</td>\n",
       "      <td>17.54</td>\n",
       "      <td>51.83</td>\n",
       "      <td>0.36</td>\n",
       "      <td>0.53</td>\n",
       "      <td>22.91</td>\n",
       "      <td>0.47</td>\n",
       "      <td>1.16</td>\n",
       "      <td>0.62</td>\n",
       "      <td>1.02</td>\n",
       "      <td>0.61</td>\n",
       "      <td>0.50</td>\n",
       "    </tr>\n",
       "    <tr>\n",
       "      <th>min</th>\n",
       "      <td>29.00</td>\n",
       "      <td>0.00</td>\n",
       "      <td>0.00</td>\n",
       "      <td>94.00</td>\n",
       "      <td>126.00</td>\n",
       "      <td>0.00</td>\n",
       "      <td>0.00</td>\n",
       "      <td>71.00</td>\n",
       "      <td>0.00</td>\n",
       "      <td>0.00</td>\n",
       "      <td>0.00</td>\n",
       "      <td>0.00</td>\n",
       "      <td>0.00</td>\n",
       "      <td>0.00</td>\n",
       "    </tr>\n",
       "    <tr>\n",
       "      <th>25%</th>\n",
       "      <td>47.50</td>\n",
       "      <td>0.00</td>\n",
       "      <td>0.00</td>\n",
       "      <td>120.00</td>\n",
       "      <td>211.00</td>\n",
       "      <td>0.00</td>\n",
       "      <td>0.00</td>\n",
       "      <td>133.50</td>\n",
       "      <td>0.00</td>\n",
       "      <td>0.00</td>\n",
       "      <td>1.00</td>\n",
       "      <td>0.00</td>\n",
       "      <td>2.00</td>\n",
       "      <td>0.00</td>\n",
       "    </tr>\n",
       "    <tr>\n",
       "      <th>50%</th>\n",
       "      <td>55.00</td>\n",
       "      <td>1.00</td>\n",
       "      <td>1.00</td>\n",
       "      <td>130.00</td>\n",
       "      <td>240.00</td>\n",
       "      <td>0.00</td>\n",
       "      <td>1.00</td>\n",
       "      <td>153.00</td>\n",
       "      <td>0.00</td>\n",
       "      <td>0.80</td>\n",
       "      <td>1.00</td>\n",
       "      <td>0.00</td>\n",
       "      <td>2.00</td>\n",
       "      <td>1.00</td>\n",
       "    </tr>\n",
       "    <tr>\n",
       "      <th>75%</th>\n",
       "      <td>61.00</td>\n",
       "      <td>1.00</td>\n",
       "      <td>2.00</td>\n",
       "      <td>140.00</td>\n",
       "      <td>274.50</td>\n",
       "      <td>0.00</td>\n",
       "      <td>1.00</td>\n",
       "      <td>166.00</td>\n",
       "      <td>1.00</td>\n",
       "      <td>1.60</td>\n",
       "      <td>2.00</td>\n",
       "      <td>1.00</td>\n",
       "      <td>3.00</td>\n",
       "      <td>1.00</td>\n",
       "    </tr>\n",
       "    <tr>\n",
       "      <th>max</th>\n",
       "      <td>77.00</td>\n",
       "      <td>1.00</td>\n",
       "      <td>3.00</td>\n",
       "      <td>200.00</td>\n",
       "      <td>564.00</td>\n",
       "      <td>1.00</td>\n",
       "      <td>2.00</td>\n",
       "      <td>202.00</td>\n",
       "      <td>1.00</td>\n",
       "      <td>6.20</td>\n",
       "      <td>2.00</td>\n",
       "      <td>4.00</td>\n",
       "      <td>3.00</td>\n",
       "      <td>1.00</td>\n",
       "    </tr>\n",
       "  </tbody>\n",
       "</table>\n",
       "</div>"
      ],
      "text/plain": [
       "          age     sex      cp  trtbps    chol     fbs  restecg  thalachh  \\\n",
       "count  303.00  303.00  303.00  303.00  303.00  303.00   303.00    303.00   \n",
       "mean    54.37    0.68    0.97  131.62  246.26    0.15     0.53    149.65   \n",
       "std      9.08    0.47    1.03   17.54   51.83    0.36     0.53     22.91   \n",
       "min     29.00    0.00    0.00   94.00  126.00    0.00     0.00     71.00   \n",
       "25%     47.50    0.00    0.00  120.00  211.00    0.00     0.00    133.50   \n",
       "50%     55.00    1.00    1.00  130.00  240.00    0.00     1.00    153.00   \n",
       "75%     61.00    1.00    2.00  140.00  274.50    0.00     1.00    166.00   \n",
       "max     77.00    1.00    3.00  200.00  564.00    1.00     2.00    202.00   \n",
       "\n",
       "         exng  oldpeak     slp     caa   thall  output  \n",
       "count  303.00   303.00  303.00  303.00  303.00  303.00  \n",
       "mean     0.33     1.04    1.40    0.73    2.31    0.54  \n",
       "std      0.47     1.16    0.62    1.02    0.61    0.50  \n",
       "min      0.00     0.00    0.00    0.00    0.00    0.00  \n",
       "25%      0.00     0.00    1.00    0.00    2.00    0.00  \n",
       "50%      0.00     0.80    1.00    0.00    2.00    1.00  \n",
       "75%      1.00     1.60    2.00    1.00    3.00    1.00  \n",
       "max      1.00     6.20    2.00    4.00    3.00    1.00  "
      ]
     },
     "execution_count": 6,
     "metadata": {},
     "output_type": "execute_result"
    }
   ],
   "source": [
    "# look  describe data set\n",
    "df.describe().round(2)"
   ]
  },
  {
   "cell_type": "code",
   "execution_count": 7,
   "id": "a5b77f8a",
   "metadata": {
    "execution": {
     "iopub.execute_input": "2022-05-02T01:27:15.486968Z",
     "iopub.status.busy": "2022-05-02T01:27:15.486641Z",
     "iopub.status.idle": "2022-05-02T01:27:15.500108Z",
     "shell.execute_reply": "2022-05-02T01:27:15.499077Z"
    },
    "papermill": {
     "duration": 0.053718,
     "end_time": "2022-05-02T01:27:15.502505",
     "exception": false,
     "start_time": "2022-05-02T01:27:15.448787",
     "status": "completed"
    },
    "tags": []
   },
   "outputs": [
    {
     "data": {
      "text/plain": [
       "sex           2\n",
       "fbs           2\n",
       "exng          2\n",
       "output        2\n",
       "restecg       3\n",
       "slp           3\n",
       "cp            4\n",
       "thall         4\n",
       "caa           5\n",
       "oldpeak      40\n",
       "age          41\n",
       "trtbps       49\n",
       "thalachh     91\n",
       "chol        152\n",
       "dtype: int64"
      ]
     },
     "execution_count": 7,
     "metadata": {},
     "output_type": "execute_result"
    }
   ],
   "source": [
    "# check unique value\n",
    "df.nunique().sort_values()"
   ]
  },
  {
   "cell_type": "markdown",
   "id": "c3ca231f",
   "metadata": {
    "papermill": {
     "duration": 0.037119,
     "end_time": "2022-05-02T01:27:15.576156",
     "exception": false,
     "start_time": "2022-05-02T01:27:15.539037",
     "status": "completed"
    },
    "tags": []
   },
   "source": [
    "## Some visual for Analysis"
   ]
  },
  {
   "cell_type": "code",
   "execution_count": 8,
   "id": "f07ecc46",
   "metadata": {
    "execution": {
     "iopub.execute_input": "2022-05-02T01:27:15.653930Z",
     "iopub.status.busy": "2022-05-02T01:27:15.653547Z",
     "iopub.status.idle": "2022-05-02T01:27:16.918924Z",
     "shell.execute_reply": "2022-05-02T01:27:16.917699Z"
    },
    "papermill": {
     "duration": 1.305852,
     "end_time": "2022-05-02T01:27:16.921492",
     "exception": false,
     "start_time": "2022-05-02T01:27:15.615640",
     "status": "completed"
    },
    "tags": []
   },
   "outputs": [
    {
     "data": {
      "text/html": [
       "        <script type=\"text/javascript\">\n",
       "        window.PlotlyConfig = {MathJaxConfig: 'local'};\n",
       "        if (window.MathJax) {MathJax.Hub.Config({SVG: {font: \"STIX-Web\"}});}\n",
       "        if (typeof require !== 'undefined') {\n",
       "        require.undef(\"plotly\");\n",
       "        requirejs.config({\n",
       "            paths: {\n",
       "                'plotly': ['https://cdn.plot.ly/plotly-2.11.1.min']\n",
       "            }\n",
       "        });\n",
       "        require(['plotly'], function(Plotly) {\n",
       "            window._Plotly = Plotly;\n",
       "        });\n",
       "        }\n",
       "        </script>\n",
       "        "
      ]
     },
     "metadata": {},
     "output_type": "display_data"
    },
    {
     "data": {
      "text/html": [
       "<div>                            <div id=\"117ef2ef-187f-42bb-a01f-0666d928d97e\" class=\"plotly-graph-div\" style=\"height:525px; width:100%;\"></div>            <script type=\"text/javascript\">                require([\"plotly\"], function(Plotly) {                    window.PLOTLYENV=window.PLOTLYENV || {};                                    if (document.getElementById(\"117ef2ef-187f-42bb-a01f-0666d928d97e\")) {                    Plotly.newPlot(                        \"117ef2ef-187f-42bb-a01f-0666d928d97e\",                        [{\"hovertemplate\":\"age=%{x}<br>chol=%{y}<br>output=%{marker.color}<extra></extra>\",\"legendgroup\":\"\",\"marker\":{\"color\":[1,1,1,1,1,1,1,1,1,1,1,1,1,1,1,1,1,1,1,1,1,1,1,1,1,1,1,1,1,1,1,1,1,1,1,1,1,1,1,1,1,1,1,1,1,1,1,1,1,1,1,1,1,1,1,1,1,1,1,1,1,1,1,1,1,1,1,1,1,1,1,1,1,1,1,1,1,1,1,1,1,1,1,1,1,1,1,1,1,1,1,1,1,1,1,1,1,1,1,1,1,1,1,1,1,1,1,1,1,1,1,1,1,1,1,1,1,1,1,1,1,1,1,1,1,1,1,1,1,1,1,1,1,1,1,1,1,1,1,1,1,1,1,1,1,1,1,1,1,1,1,1,1,1,1,1,1,1,1,1,1,1,1,1,1,0,0,0,0,0,0,0,0,0,0,0,0,0,0,0,0,0,0,0,0,0,0,0,0,0,0,0,0,0,0,0,0,0,0,0,0,0,0,0,0,0,0,0,0,0,0,0,0,0,0,0,0,0,0,0,0,0,0,0,0,0,0,0,0,0,0,0,0,0,0,0,0,0,0,0,0,0,0,0,0,0,0,0,0,0,0,0,0,0,0,0,0,0,0,0,0,0,0,0,0,0,0,0,0,0,0,0,0,0,0,0,0,0,0,0,0,0,0,0,0,0,0,0,0,0,0,0,0,0,0,0,0,0,0,0,0,0,0],\"coloraxis\":\"coloraxis\",\"symbol\":\"circle\"},\"mode\":\"markers\",\"name\":\"\",\"orientation\":\"v\",\"showlegend\":false,\"x\":[63,37,41,56,57,57,56,44,52,57,54,48,49,64,58,50,58,66,43,69,59,44,42,61,40,71,59,51,65,53,41,65,44,54,51,46,54,54,65,65,51,48,45,53,39,52,44,47,53,53,51,66,62,44,63,52,48,45,34,57,71,54,52,41,58,35,51,45,44,62,54,51,29,51,43,55,51,59,52,58,41,45,60,52,42,67,68,46,54,58,48,57,52,54,45,53,62,52,43,53,42,59,63,42,50,68,69,45,50,50,64,57,64,43,55,37,41,56,46,46,64,59,41,54,39,34,47,67,52,74,54,49,42,41,41,49,60,62,57,64,51,43,42,67,76,70,44,60,44,42,66,71,64,66,39,58,47,35,58,56,56,55,41,38,38,67,67,62,63,53,56,48,58,58,60,40,60,64,43,57,55,65,61,58,50,44,60,54,50,41,51,58,54,60,60,59,46,67,62,65,44,60,58,68,62,52,59,60,49,59,57,61,39,61,56,43,62,63,65,48,63,55,65,56,54,70,62,35,59,64,47,57,55,64,70,51,58,60,77,35,70,59,64,57,56,48,56,66,54,69,51,43,62,67,59,45,58,50,62,38,66,52,53,63,54,66,55,49,54,56,46,61,67,58,47,52,58,57,58,61,42,52,59,40,61,46,59,57,57,55,61,58,58,67,44,63,63,59,57,45,68,57,57],\"xaxis\":\"x\",\"y\":[233,250,204,236,354,192,294,263,199,168,239,275,266,211,283,219,340,226,247,239,234,233,226,243,199,302,212,175,417,197,198,177,219,273,213,177,304,232,269,360,308,245,208,264,321,325,235,257,216,234,256,302,231,141,252,201,222,260,182,303,265,309,186,203,211,183,222,234,220,209,258,227,204,261,213,250,245,221,205,240,250,308,318,298,265,564,277,197,214,248,255,207,223,288,160,226,394,233,315,246,244,270,195,240,196,211,234,236,244,254,325,126,313,211,262,215,214,193,204,243,303,271,268,267,199,210,204,277,196,269,201,271,295,235,306,269,178,208,201,263,295,303,209,223,197,245,242,240,226,180,228,149,227,278,220,197,253,192,220,221,240,342,157,175,175,286,229,268,254,203,256,229,284,224,206,167,230,335,177,276,353,225,330,230,243,290,253,266,233,172,305,216,188,282,185,326,231,254,267,248,197,258,270,274,164,255,239,258,188,177,229,260,219,307,249,341,263,330,254,256,407,217,282,288,239,174,281,198,288,309,243,289,289,246,322,299,300,293,304,282,269,249,212,274,184,274,409,246,283,254,298,247,294,299,273,309,259,200,244,231,228,230,282,269,206,212,327,149,286,283,249,234,237,234,275,212,218,261,319,166,315,204,218,223,207,311,204,232,335,205,203,318,225,212,169,187,197,176,241,264,193,131,236],\"yaxis\":\"y\",\"type\":\"scatter\"}],                        {\"template\":{\"data\":{\"histogram2dcontour\":[{\"type\":\"histogram2dcontour\",\"colorbar\":{\"outlinewidth\":0,\"ticks\":\"\"},\"colorscale\":[[0.0,\"#0d0887\"],[0.1111111111111111,\"#46039f\"],[0.2222222222222222,\"#7201a8\"],[0.3333333333333333,\"#9c179e\"],[0.4444444444444444,\"#bd3786\"],[0.5555555555555556,\"#d8576b\"],[0.6666666666666666,\"#ed7953\"],[0.7777777777777778,\"#fb9f3a\"],[0.8888888888888888,\"#fdca26\"],[1.0,\"#f0f921\"]]}],\"choropleth\":[{\"type\":\"choropleth\",\"colorbar\":{\"outlinewidth\":0,\"ticks\":\"\"}}],\"histogram2d\":[{\"type\":\"histogram2d\",\"colorbar\":{\"outlinewidth\":0,\"ticks\":\"\"},\"colorscale\":[[0.0,\"#0d0887\"],[0.1111111111111111,\"#46039f\"],[0.2222222222222222,\"#7201a8\"],[0.3333333333333333,\"#9c179e\"],[0.4444444444444444,\"#bd3786\"],[0.5555555555555556,\"#d8576b\"],[0.6666666666666666,\"#ed7953\"],[0.7777777777777778,\"#fb9f3a\"],[0.8888888888888888,\"#fdca26\"],[1.0,\"#f0f921\"]]}],\"heatmap\":[{\"type\":\"heatmap\",\"colorbar\":{\"outlinewidth\":0,\"ticks\":\"\"},\"colorscale\":[[0.0,\"#0d0887\"],[0.1111111111111111,\"#46039f\"],[0.2222222222222222,\"#7201a8\"],[0.3333333333333333,\"#9c179e\"],[0.4444444444444444,\"#bd3786\"],[0.5555555555555556,\"#d8576b\"],[0.6666666666666666,\"#ed7953\"],[0.7777777777777778,\"#fb9f3a\"],[0.8888888888888888,\"#fdca26\"],[1.0,\"#f0f921\"]]}],\"heatmapgl\":[{\"type\":\"heatmapgl\",\"colorbar\":{\"outlinewidth\":0,\"ticks\":\"\"},\"colorscale\":[[0.0,\"#0d0887\"],[0.1111111111111111,\"#46039f\"],[0.2222222222222222,\"#7201a8\"],[0.3333333333333333,\"#9c179e\"],[0.4444444444444444,\"#bd3786\"],[0.5555555555555556,\"#d8576b\"],[0.6666666666666666,\"#ed7953\"],[0.7777777777777778,\"#fb9f3a\"],[0.8888888888888888,\"#fdca26\"],[1.0,\"#f0f921\"]]}],\"contourcarpet\":[{\"type\":\"contourcarpet\",\"colorbar\":{\"outlinewidth\":0,\"ticks\":\"\"}}],\"contour\":[{\"type\":\"contour\",\"colorbar\":{\"outlinewidth\":0,\"ticks\":\"\"},\"colorscale\":[[0.0,\"#0d0887\"],[0.1111111111111111,\"#46039f\"],[0.2222222222222222,\"#7201a8\"],[0.3333333333333333,\"#9c179e\"],[0.4444444444444444,\"#bd3786\"],[0.5555555555555556,\"#d8576b\"],[0.6666666666666666,\"#ed7953\"],[0.7777777777777778,\"#fb9f3a\"],[0.8888888888888888,\"#fdca26\"],[1.0,\"#f0f921\"]]}],\"surface\":[{\"type\":\"surface\",\"colorbar\":{\"outlinewidth\":0,\"ticks\":\"\"},\"colorscale\":[[0.0,\"#0d0887\"],[0.1111111111111111,\"#46039f\"],[0.2222222222222222,\"#7201a8\"],[0.3333333333333333,\"#9c179e\"],[0.4444444444444444,\"#bd3786\"],[0.5555555555555556,\"#d8576b\"],[0.6666666666666666,\"#ed7953\"],[0.7777777777777778,\"#fb9f3a\"],[0.8888888888888888,\"#fdca26\"],[1.0,\"#f0f921\"]]}],\"mesh3d\":[{\"type\":\"mesh3d\",\"colorbar\":{\"outlinewidth\":0,\"ticks\":\"\"}}],\"scatter\":[{\"fillpattern\":{\"fillmode\":\"overlay\",\"size\":10,\"solidity\":0.2},\"type\":\"scatter\"}],\"parcoords\":[{\"type\":\"parcoords\",\"line\":{\"colorbar\":{\"outlinewidth\":0,\"ticks\":\"\"}}}],\"scatterpolargl\":[{\"type\":\"scatterpolargl\",\"marker\":{\"colorbar\":{\"outlinewidth\":0,\"ticks\":\"\"}}}],\"bar\":[{\"error_x\":{\"color\":\"#2a3f5f\"},\"error_y\":{\"color\":\"#2a3f5f\"},\"marker\":{\"line\":{\"color\":\"#E5ECF6\",\"width\":0.5},\"pattern\":{\"fillmode\":\"overlay\",\"size\":10,\"solidity\":0.2}},\"type\":\"bar\"}],\"scattergeo\":[{\"type\":\"scattergeo\",\"marker\":{\"colorbar\":{\"outlinewidth\":0,\"ticks\":\"\"}}}],\"scatterpolar\":[{\"type\":\"scatterpolar\",\"marker\":{\"colorbar\":{\"outlinewidth\":0,\"ticks\":\"\"}}}],\"histogram\":[{\"marker\":{\"pattern\":{\"fillmode\":\"overlay\",\"size\":10,\"solidity\":0.2}},\"type\":\"histogram\"}],\"scattergl\":[{\"type\":\"scattergl\",\"marker\":{\"colorbar\":{\"outlinewidth\":0,\"ticks\":\"\"}}}],\"scatter3d\":[{\"type\":\"scatter3d\",\"line\":{\"colorbar\":{\"outlinewidth\":0,\"ticks\":\"\"}},\"marker\":{\"colorbar\":{\"outlinewidth\":0,\"ticks\":\"\"}}}],\"scattermapbox\":[{\"type\":\"scattermapbox\",\"marker\":{\"colorbar\":{\"outlinewidth\":0,\"ticks\":\"\"}}}],\"scatterternary\":[{\"type\":\"scatterternary\",\"marker\":{\"colorbar\":{\"outlinewidth\":0,\"ticks\":\"\"}}}],\"scattercarpet\":[{\"type\":\"scattercarpet\",\"marker\":{\"colorbar\":{\"outlinewidth\":0,\"ticks\":\"\"}}}],\"carpet\":[{\"aaxis\":{\"endlinecolor\":\"#2a3f5f\",\"gridcolor\":\"white\",\"linecolor\":\"white\",\"minorgridcolor\":\"white\",\"startlinecolor\":\"#2a3f5f\"},\"baxis\":{\"endlinecolor\":\"#2a3f5f\",\"gridcolor\":\"white\",\"linecolor\":\"white\",\"minorgridcolor\":\"white\",\"startlinecolor\":\"#2a3f5f\"},\"type\":\"carpet\"}],\"table\":[{\"cells\":{\"fill\":{\"color\":\"#EBF0F8\"},\"line\":{\"color\":\"white\"}},\"header\":{\"fill\":{\"color\":\"#C8D4E3\"},\"line\":{\"color\":\"white\"}},\"type\":\"table\"}],\"barpolar\":[{\"marker\":{\"line\":{\"color\":\"#E5ECF6\",\"width\":0.5},\"pattern\":{\"fillmode\":\"overlay\",\"size\":10,\"solidity\":0.2}},\"type\":\"barpolar\"}],\"pie\":[{\"automargin\":true,\"type\":\"pie\"}]},\"layout\":{\"autotypenumbers\":\"strict\",\"colorway\":[\"#636efa\",\"#EF553B\",\"#00cc96\",\"#ab63fa\",\"#FFA15A\",\"#19d3f3\",\"#FF6692\",\"#B6E880\",\"#FF97FF\",\"#FECB52\"],\"font\":{\"color\":\"#2a3f5f\"},\"hovermode\":\"closest\",\"hoverlabel\":{\"align\":\"left\"},\"paper_bgcolor\":\"white\",\"plot_bgcolor\":\"#E5ECF6\",\"polar\":{\"bgcolor\":\"#E5ECF6\",\"angularaxis\":{\"gridcolor\":\"white\",\"linecolor\":\"white\",\"ticks\":\"\"},\"radialaxis\":{\"gridcolor\":\"white\",\"linecolor\":\"white\",\"ticks\":\"\"}},\"ternary\":{\"bgcolor\":\"#E5ECF6\",\"aaxis\":{\"gridcolor\":\"white\",\"linecolor\":\"white\",\"ticks\":\"\"},\"baxis\":{\"gridcolor\":\"white\",\"linecolor\":\"white\",\"ticks\":\"\"},\"caxis\":{\"gridcolor\":\"white\",\"linecolor\":\"white\",\"ticks\":\"\"}},\"coloraxis\":{\"colorbar\":{\"outlinewidth\":0,\"ticks\":\"\"}},\"colorscale\":{\"sequential\":[[0.0,\"#0d0887\"],[0.1111111111111111,\"#46039f\"],[0.2222222222222222,\"#7201a8\"],[0.3333333333333333,\"#9c179e\"],[0.4444444444444444,\"#bd3786\"],[0.5555555555555556,\"#d8576b\"],[0.6666666666666666,\"#ed7953\"],[0.7777777777777778,\"#fb9f3a\"],[0.8888888888888888,\"#fdca26\"],[1.0,\"#f0f921\"]],\"sequentialminus\":[[0.0,\"#0d0887\"],[0.1111111111111111,\"#46039f\"],[0.2222222222222222,\"#7201a8\"],[0.3333333333333333,\"#9c179e\"],[0.4444444444444444,\"#bd3786\"],[0.5555555555555556,\"#d8576b\"],[0.6666666666666666,\"#ed7953\"],[0.7777777777777778,\"#fb9f3a\"],[0.8888888888888888,\"#fdca26\"],[1.0,\"#f0f921\"]],\"diverging\":[[0,\"#8e0152\"],[0.1,\"#c51b7d\"],[0.2,\"#de77ae\"],[0.3,\"#f1b6da\"],[0.4,\"#fde0ef\"],[0.5,\"#f7f7f7\"],[0.6,\"#e6f5d0\"],[0.7,\"#b8e186\"],[0.8,\"#7fbc41\"],[0.9,\"#4d9221\"],[1,\"#276419\"]]},\"xaxis\":{\"gridcolor\":\"white\",\"linecolor\":\"white\",\"ticks\":\"\",\"title\":{\"standoff\":15},\"zerolinecolor\":\"white\",\"automargin\":true,\"zerolinewidth\":2},\"yaxis\":{\"gridcolor\":\"white\",\"linecolor\":\"white\",\"ticks\":\"\",\"title\":{\"standoff\":15},\"zerolinecolor\":\"white\",\"automargin\":true,\"zerolinewidth\":2},\"scene\":{\"xaxis\":{\"backgroundcolor\":\"#E5ECF6\",\"gridcolor\":\"white\",\"linecolor\":\"white\",\"showbackground\":true,\"ticks\":\"\",\"zerolinecolor\":\"white\",\"gridwidth\":2},\"yaxis\":{\"backgroundcolor\":\"#E5ECF6\",\"gridcolor\":\"white\",\"linecolor\":\"white\",\"showbackground\":true,\"ticks\":\"\",\"zerolinecolor\":\"white\",\"gridwidth\":2},\"zaxis\":{\"backgroundcolor\":\"#E5ECF6\",\"gridcolor\":\"white\",\"linecolor\":\"white\",\"showbackground\":true,\"ticks\":\"\",\"zerolinecolor\":\"white\",\"gridwidth\":2}},\"shapedefaults\":{\"line\":{\"color\":\"#2a3f5f\"}},\"annotationdefaults\":{\"arrowcolor\":\"#2a3f5f\",\"arrowhead\":0,\"arrowwidth\":1},\"geo\":{\"bgcolor\":\"white\",\"landcolor\":\"#E5ECF6\",\"subunitcolor\":\"white\",\"showland\":true,\"showlakes\":true,\"lakecolor\":\"white\"},\"title\":{\"x\":0.05},\"mapbox\":{\"style\":\"light\"}}},\"xaxis\":{\"anchor\":\"y\",\"domain\":[0.0,1.0],\"title\":{\"text\":\"age\"}},\"yaxis\":{\"anchor\":\"x\",\"domain\":[0.0,1.0],\"title\":{\"text\":\"chol\"}},\"coloraxis\":{\"colorbar\":{\"title\":{\"text\":\"output\"}},\"colorscale\":[[0.0,\"#0d0887\"],[0.1111111111111111,\"#46039f\"],[0.2222222222222222,\"#7201a8\"],[0.3333333333333333,\"#9c179e\"],[0.4444444444444444,\"#bd3786\"],[0.5555555555555556,\"#d8576b\"],[0.6666666666666666,\"#ed7953\"],[0.7777777777777778,\"#fb9f3a\"],[0.8888888888888888,\"#fdca26\"],[1.0,\"#f0f921\"]]},\"legend\":{\"tracegroupgap\":0},\"title\":{\"text\":\"Influence Age and cholesterol\"}},                        {\"responsive\": true}                    ).then(function(){\n",
       "                            \n",
       "var gd = document.getElementById('117ef2ef-187f-42bb-a01f-0666d928d97e');\n",
       "var x = new MutationObserver(function (mutations, observer) {{\n",
       "        var display = window.getComputedStyle(gd).display;\n",
       "        if (!display || display === 'none') {{\n",
       "            console.log([gd, 'removed!']);\n",
       "            Plotly.purge(gd);\n",
       "            observer.disconnect();\n",
       "        }}\n",
       "}});\n",
       "\n",
       "// Listen for the removal of the full notebook cells\n",
       "var notebookContainer = gd.closest('#notebook-container');\n",
       "if (notebookContainer) {{\n",
       "    x.observe(notebookContainer, {childList: true});\n",
       "}}\n",
       "\n",
       "// Listen for the clearing of the current output cell\n",
       "var outputEl = gd.closest('.output');\n",
       "if (outputEl) {{\n",
       "    x.observe(outputEl, {childList: true});\n",
       "}}\n",
       "\n",
       "                        })                };                });            </script>        </div>"
      ]
     },
     "metadata": {},
     "output_type": "display_data"
    }
   ],
   "source": [
    "# interactive graph between Age and cholesterol in mg/dl\n",
    "\n",
    "px.scatter(df,x=\"age\",y=\"chol\",color=\"output\",title=\"Influence Age and cholesterol\")"
   ]
  },
  {
   "cell_type": "markdown",
   "id": "662bc332",
   "metadata": {
    "papermill": {
     "duration": 0.037773,
     "end_time": "2022-05-02T01:27:16.998621",
     "exception": false,
     "start_time": "2022-05-02T01:27:16.960848",
     "status": "completed"
    },
    "tags": []
   },
   "source": [
    "- 0 = less chance of heart attack\n",
    "- 1 = more chance of heart attack\n",
    "- maybe when increasing old years have more chance of heart attack"
   ]
  },
  {
   "cell_type": "code",
   "execution_count": 9,
   "id": "4d4cbf3f",
   "metadata": {
    "execution": {
     "iopub.execute_input": "2022-05-02T01:27:17.076977Z",
     "iopub.status.busy": "2022-05-02T01:27:17.076680Z",
     "iopub.status.idle": "2022-05-02T01:27:17.293296Z",
     "shell.execute_reply": "2022-05-02T01:27:17.292560Z"
    },
    "papermill": {
     "duration": 0.260818,
     "end_time": "2022-05-02T01:27:17.297514",
     "exception": false,
     "start_time": "2022-05-02T01:27:17.036696",
     "status": "completed"
    },
    "tags": []
   },
   "outputs": [
    {
     "data": {
      "text/plain": [
       "<AxesSubplot:title={'center':'Male & Female have heart attack'}, ylabel='output'>"
      ]
     },
     "execution_count": 9,
     "metadata": {},
     "output_type": "execute_result"
    },
    {
     "data": {
      "image/png": "[encoded data removed]",
      "text/plain": [
       "<Figure size 720x720 with 1 Axes>"
      ]
     },
     "metadata": {},
     "output_type": "display_data"
    }
   ],
   "source": [
    "# make groupby and pie graph to see how the percentage [ male and female]\n",
    "\n",
    "df.groupby('sex')[\"output\"].count().plot(kind=\"pie\",autopct='%1.1f%%',shadow=True,figsize=(10,10),title=\"Male & Female have heart attack\")"
   ]
  },
  {
   "cell_type": "markdown",
   "id": "386e3e5d",
   "metadata": {
    "papermill": {
     "duration": 0.040207,
     "end_time": "2022-05-02T01:27:17.406553",
     "exception": false,
     "start_time": "2022-05-02T01:27:17.366346",
     "status": "completed"
    },
    "tags": []
   },
   "source": [
    "### Gender of the patients\n",
    "- 1 = 68.3% are **male**,\n",
    "- 0 = 31.7% are **female**"
   ]
  },
  {
   "cell_type": "code",
   "execution_count": 10,
   "id": "cde01de0",
   "metadata": {
    "execution": {
     "iopub.execute_input": "2022-05-02T01:27:17.485918Z",
     "iopub.status.busy": "2022-05-02T01:27:17.485625Z",
     "iopub.status.idle": "2022-05-02T01:27:17.711005Z",
     "shell.execute_reply": "2022-05-02T01:27:17.709998Z"
    },
    "papermill": {
     "duration": 0.267683,
     "end_time": "2022-05-02T01:27:17.713436",
     "exception": false,
     "start_time": "2022-05-02T01:27:17.445753",
     "status": "completed"
    },
    "tags": []
   },
   "outputs": [
    {
     "data": {
      "text/plain": [
       "<AxesSubplot:title={'center':'Chest Pain type chest pain type'}, ylabel='output'>"
      ]
     },
     "execution_count": 10,
     "metadata": {},
     "output_type": "execute_result"
    },
    {
     "data": {
      "image/png": "[encoded data removed]",
      "text/plain": [
       "<Figure size 720x720 with 1 Axes>"
      ]
     },
     "metadata": {},
     "output_type": "display_data"
    }
   ],
   "source": [
    "# make groupby and pie graph to see how the percentage [ Chest Pain type chest pain type]\n",
    "\n",
    "df.groupby('cp')[\"output\"].count().plot(kind=\"pie\",autopct='%1.1f%%',shadow=True,figsize=(10,10),title=\"Chest Pain type chest pain type\")"
   ]
  },
  {
   "cell_type": "markdown",
   "id": "151a2aff",
   "metadata": {
    "papermill": {
     "duration": 0.041,
     "end_time": "2022-05-02T01:27:17.796311",
     "exception": false,
     "start_time": "2022-05-02T01:27:17.755311",
     "status": "completed"
    },
    "tags": []
   },
   "source": [
    "## cp : Chest Pain type chest pain type\n",
    "- 0 : asymptomatic 47.2%\n",
    "- 1 : typical angina 16.5%\n",
    "- 2 : atypical angina 28.7 %\n",
    "- 3 : non-anginal pain 7.6 %"
   ]
  },
  {
   "cell_type": "code",
   "execution_count": 11,
   "id": "2db6c9f1",
   "metadata": {
    "execution": {
     "iopub.execute_input": "2022-05-02T01:27:17.879627Z",
     "iopub.status.busy": "2022-05-02T01:27:17.879350Z",
     "iopub.status.idle": "2022-05-02T01:27:18.049706Z",
     "shell.execute_reply": "2022-05-02T01:27:18.048411Z"
    },
    "papermill": {
     "duration": 0.215805,
     "end_time": "2022-05-02T01:27:18.052611",
     "exception": false,
     "start_time": "2022-05-02T01:27:17.836806",
     "status": "completed"
    },
    "tags": []
   },
   "outputs": [
    {
     "data": {
      "text/plain": [
       "<AxesSubplot:title={'center':'fasting blood sugar'}, ylabel='output'>"
      ]
     },
     "execution_count": 11,
     "metadata": {},
     "output_type": "execute_result"
    },
    {
     "data": {
      "image/png": "[encoded data removed]",
      "text/plain": [
       "<Figure size 720x720 with 1 Axes>"
      ]
     },
     "metadata": {},
     "output_type": "display_data"
    }
   ],
   "source": [
    "# make groupby and pie graph to see how the percentage [ fasting blood sugar]\n",
    "\n",
    "\n",
    "df.groupby('fbs')[\"output\"].count().plot(kind=\"pie\",autopct='%1.1f%%',shadow=True,figsize=(10,10),title=\"fasting blood sugar\")\n"
   ]
  },
  {
   "cell_type": "markdown",
   "id": "c7dd0a70",
   "metadata": {
    "papermill": {
     "duration": 0.044097,
     "end_time": "2022-05-02T01:27:18.139796",
     "exception": false,
     "start_time": "2022-05-02T01:27:18.095699",
     "status": "completed"
    },
    "tags": []
   },
   "source": [
    "### fbs : (fasting blood sugar > 120 mg/dl) (1 = true; 0 = false)\n",
    "- 0 = 85.1 %\n",
    "- 1 = 14.9 %"
   ]
  },
  {
   "cell_type": "code",
   "execution_count": 12,
   "id": "6db42867",
   "metadata": {
    "execution": {
     "iopub.execute_input": "2022-05-02T01:27:18.228163Z",
     "iopub.status.busy": "2022-05-02T01:27:18.227829Z",
     "iopub.status.idle": "2022-05-02T01:27:18.409654Z",
     "shell.execute_reply": "2022-05-02T01:27:18.408315Z"
    },
    "papermill": {
     "duration": 0.229452,
     "end_time": "2022-05-02T01:27:18.412576",
     "exception": false,
     "start_time": "2022-05-02T01:27:18.183124",
     "status": "completed"
    },
    "tags": []
   },
   "outputs": [
    {
     "data": {
      "text/plain": [
       "<AxesSubplot:title={'center':'Electrocardiographic results'}, ylabel='output'>"
      ]
     },
     "execution_count": 12,
     "metadata": {},
     "output_type": "execute_result"
    },
    {
     "data": {
      "image/png": "[encoded data removed]",
      "text/plain": [
       "<Figure size 720x720 with 1 Axes>"
      ]
     },
     "metadata": {},
     "output_type": "display_data"
    }
   ],
   "source": [
    "# make groupby and pie graph to see how the percentage [ Electrocardiographic results]\n",
    "\n",
    "\n",
    "df.groupby('restecg')[\"output\"].count().plot(kind=\"pie\",autopct='%1.1f%%',shadow=True, figsize=(10,10),title=\"Electrocardiographic results\")\n"
   ]
  },
  {
   "cell_type": "markdown",
   "id": "efc2f46d",
   "metadata": {
    "papermill": {
     "duration": 0.045422,
     "end_time": "2022-05-02T01:27:18.505540",
     "exception": false,
     "start_time": "2022-05-02T01:27:18.460118",
     "status": "completed"
    },
    "tags": []
   },
   "source": [
    "## rest_ecg : resting electrocardiographic results\n",
    "\n",
    "- Value 0: normal = 48.5%\n",
    "- Value 1: having ST-T wave abnormality (T wave inversions and/or ST elevation or depression of > 0.05 mV) = 50.2 %\n",
    "- Value 2: showing probable or definite left ventricular hypertrophy by Estes' criteria = 1.3 %"
   ]
  },
  {
   "cell_type": "code",
   "execution_count": 13,
   "id": "793f6b27",
   "metadata": {
    "execution": {
     "iopub.execute_input": "2022-05-02T01:27:18.596216Z",
     "iopub.status.busy": "2022-05-02T01:27:18.595912Z",
     "iopub.status.idle": "2022-05-02T01:27:18.754565Z",
     "shell.execute_reply": "2022-05-02T01:27:18.753542Z"
    },
    "papermill": {
     "duration": 0.207063,
     "end_time": "2022-05-02T01:27:18.757110",
     "exception": false,
     "start_time": "2022-05-02T01:27:18.550047",
     "status": "completed"
    },
    "tags": []
   },
   "outputs": [
    {
     "data": {
      "text/plain": [
       "<AxesSubplot:title={'center':'Target Variable - output'}, ylabel='output'>"
      ]
     },
     "execution_count": 13,
     "metadata": {},
     "output_type": "execute_result"
    },
    {
     "data": {
      "image/png": "[encoded data removed]",
      "text/plain": [
       "<Figure size 720x720 with 1 Axes>"
      ]
     },
     "metadata": {},
     "output_type": "display_data"
    }
   ],
   "source": [
    "# make groupby and pie graph to see how the percentage [ Target Variable - output]\n",
    "\n",
    "\n",
    "df.groupby('output')[\"output\"].count().plot(kind=\"pie\",autopct='%1.1f%%',shadow=True,figsize=(10,10),title=\"Target Variable - output\")\n"
   ]
  },
  {
   "cell_type": "markdown",
   "id": "d4120289",
   "metadata": {
    "papermill": {
     "duration": 0.047126,
     "end_time": "2022-05-02T01:27:18.851979",
     "exception": false,
     "start_time": "2022-05-02T01:27:18.804853",
     "status": "completed"
    },
    "tags": []
   },
   "source": [
    "## Target Variable - output\n",
    "- More than half of the patients, **54.5 percent**, have a heart attack risk. The remaining **45.5 percent** .\n"
   ]
  },
  {
   "cell_type": "code",
   "execution_count": 14,
   "id": "d3cae512",
   "metadata": {
    "execution": {
     "iopub.execute_input": "2022-05-02T01:27:18.946350Z",
     "iopub.status.busy": "2022-05-02T01:27:18.945431Z",
     "iopub.status.idle": "2022-05-02T01:27:19.584966Z",
     "shell.execute_reply": "2022-05-02T01:27:19.583740Z"
    },
    "papermill": {
     "duration": 0.689596,
     "end_time": "2022-05-02T01:27:19.587654",
     "exception": false,
     "start_time": "2022-05-02T01:27:18.898058",
     "status": "completed"
    },
    "tags": []
   },
   "outputs": [
    {
     "data": {
      "text/plain": [
       "<AxesSubplot:title={'center':'Relationship between Age and have patients heart '}, xlabel='age'>"
      ]
     },
     "execution_count": 14,
     "metadata": {},
     "output_type": "execute_result"
    },
    {
     "data": {
      "image/png": "[encoded data removed]",
      "text/plain": [
       "<Figure size 1224x432 with 1 Axes>"
      ]
     },
     "metadata": {
      "needs_background": "light"
     },
     "output_type": "display_data"
    }
   ],
   "source": [
    "# make groupby and bar graph to see relationship between Age and have patients heart \n",
    "\n",
    "\n",
    "df.groupby('age')[\"output\"].count().plot(kind=\"bar\",figsize=(17,6), title=\"Relationship between Age and have patients heart \")\n"
   ]
  },
  {
   "cell_type": "markdown",
   "id": "169fd226",
   "metadata": {
    "papermill": {
     "duration": 0.047975,
     "end_time": "2022-05-02T01:27:19.683869",
     "exception": false,
     "start_time": "2022-05-02T01:27:19.635894",
     "status": "completed"
    },
    "tags": []
   },
   "source": [
    "## Age Variable\n",
    "- The vast majority of patients are between 50 and 60."
   ]
  },
  {
   "cell_type": "markdown",
   "id": "e208c719",
   "metadata": {
    "papermill": {
     "duration": 0.048024,
     "end_time": "2022-05-02T01:27:19.779566",
     "exception": false,
     "start_time": "2022-05-02T01:27:19.731542",
     "status": "completed"
    },
    "tags": []
   },
   "source": [
    "# Analysis Results 🙉🙈🙊\n",
    "\n",
    "- After make some analysis , visual graph  and explore the data set , I see some results .\n",
    "\n",
    "\n",
    "#### The vast majority of patients are between 50 and 60.\n",
    "- Maybe when increasing old years have more chance of heart attack\n",
    "\n",
    "#### Gender of the patients\n",
    "-  68.3% are Male,\n",
    "-  31.7% are Female\n",
    "\n",
    "\n",
    "#### Chest Pain type chest pain type\n",
    "- Asymptomatic 47.2%\n",
    "- Typical angina 16.5%\n",
    "- Atypical angina 28.7 %\n",
    "- Non-anginal pain 7.6 %\n",
    "\n",
    "\n",
    "#### (fasting blood sugar > 120 mg/dl) (1 = true; 0 = false)\n",
    "- 0 = 85.1 %\n",
    "- 1 = 14.9 %\n",
    "\n",
    "\n",
    "#### Resting electrocardiographic results\n",
    "- Normal = 48.5%\n",
    "- Having ST-T wave abnormality (T wave inversions and/or ST elevation or depression of > 0.05 mV) = 50.2 %\n",
    "- Showing probable or definite left ventricular hypertrophy by Estes' criteria = 1.3 %\n",
    "\n",
    "\n",
    "#### Target Variable - output\n",
    "- More than half of the patients, 54.5 percent, have a heart attack risk. The remaining 45.5 percent \n",
    "\n"
   ]
  },
  {
   "cell_type": "markdown",
   "id": "875855e0",
   "metadata": {
    "papermill": {
     "duration": 0.048077,
     "end_time": "2022-05-02T01:27:19.877400",
     "exception": false,
     "start_time": "2022-05-02T01:27:19.829323",
     "status": "completed"
    },
    "tags": []
   },
   "source": [
    "# Building a Machine Learning Model / classification score Volume"
   ]
  },
  {
   "cell_type": "code",
   "execution_count": 15,
   "id": "6552a14d",
   "metadata": {
    "execution": {
     "iopub.execute_input": "2022-05-02T01:27:19.977125Z",
     "iopub.status.busy": "2022-05-02T01:27:19.976542Z",
     "iopub.status.idle": "2022-05-02T01:27:20.527129Z",
     "shell.execute_reply": "2022-05-02T01:27:20.526028Z"
    },
    "papermill": {
     "duration": 0.604966,
     "end_time": "2022-05-02T01:27:20.530314",
     "exception": false,
     "start_time": "2022-05-02T01:27:19.925348",
     "status": "completed"
    },
    "tags": []
   },
   "outputs": [],
   "source": [
    "#Importing the basic librarires for building model - classification\n",
    "\n",
    "from sklearn.model_selection import train_test_split\n",
    "\n",
    "from sklearn.metrics import accuracy_score,r2_score\n",
    "\n",
    "\n",
    "from sklearn.linear_model import LogisticRegression\n",
    "from sklearn.tree import DecisionTreeClassifier\n",
    "from sklearn.neighbors import  KNeighborsClassifier\n",
    "from sklearn.ensemble import RandomForestClassifier\n",
    "from sklearn.neural_network import  MLPClassifier\n",
    "from sklearn.svm import SVC\n",
    "from xgboost import XGBClassifier"
   ]
  },
  {
   "cell_type": "code",
   "execution_count": 16,
   "id": "a6dee274",
   "metadata": {
    "execution": {
     "iopub.execute_input": "2022-05-02T01:27:20.629670Z",
     "iopub.status.busy": "2022-05-02T01:27:20.629357Z",
     "iopub.status.idle": "2022-05-02T01:27:20.641498Z",
     "shell.execute_reply": "2022-05-02T01:27:20.640558Z"
    },
    "papermill": {
     "duration": 0.066795,
     "end_time": "2022-05-02T01:27:20.644982",
     "exception": false,
     "start_time": "2022-05-02T01:27:20.578187",
     "status": "completed"
    },
    "tags": []
   },
   "outputs": [
    {
     "name": "stdout",
     "output_type": "stream",
     "text": [
      "X Train :  (227, 13)\n",
      "X Test  :  (76, 13)\n",
      "Y Train :  (227,)\n",
      "Y Test  :  (76,)\n"
     ]
    }
   ],
   "source": [
    "#Defined X value and y value , and split the data train\n",
    "X = df.drop(columns=\"output\")           \n",
    "y = df[\"output\"]    # y = quality\n",
    "\n",
    "# split the data train and test\n",
    "X_train, X_test, y_train, y_test = train_test_split(X, y, test_size=0.25, random_state=42)\n",
    "\n",
    "print(\"X Train : \", X_train.shape)\n",
    "print(\"X Test  : \", X_test.shape)\n",
    "print(\"Y Train : \", y_train.shape)\n",
    "print(\"Y Test  : \", y_test.shape)"
   ]
  },
  {
   "cell_type": "code",
   "execution_count": 17,
   "id": "a62b0d8c",
   "metadata": {
    "execution": {
     "iopub.execute_input": "2022-05-02T01:27:20.747457Z",
     "iopub.status.busy": "2022-05-02T01:27:20.747112Z",
     "iopub.status.idle": "2022-05-02T01:27:20.753478Z",
     "shell.execute_reply": "2022-05-02T01:27:20.752628Z"
    },
    "papermill": {
     "duration": 0.061512,
     "end_time": "2022-05-02T01:27:20.755604",
     "exception": false,
     "start_time": "2022-05-02T01:27:20.694092",
     "status": "completed"
    },
    "tags": []
   },
   "outputs": [],
   "source": [
    "#Defined object from library classification \n",
    "\n",
    "LR = LogisticRegression()\n",
    "DTR = DecisionTreeClassifier()\n",
    "RFR = RandomForestClassifier()\n",
    "KNR = KNeighborsClassifier()\n",
    "MLP = MLPClassifier()\n",
    "XGB = XGBClassifier()\n",
    "SVR=SVC()"
   ]
  },
  {
   "cell_type": "code",
   "execution_count": 18,
   "id": "56c87a20",
   "metadata": {
    "execution": {
     "iopub.execute_input": "2022-05-02T01:27:20.878871Z",
     "iopub.status.busy": "2022-05-02T01:27:20.878117Z",
     "iopub.status.idle": "2022-05-02T01:27:22.417435Z",
     "shell.execute_reply": "2022-05-02T01:27:22.415464Z"
    },
    "papermill": {
     "duration": 1.600116,
     "end_time": "2022-05-02T01:27:22.421045",
     "exception": false,
     "start_time": "2022-05-02T01:27:20.820929",
     "status": "completed"
    },
    "tags": []
   },
   "outputs": [
    {
     "name": "stderr",
     "output_type": "stream",
     "text": [
      "/opt/conda/lib/python3.7/site-packages/sklearn/linear_model/_logistic.py:818: ConvergenceWarning:\n",
      "\n",
      "lbfgs failed to converge (status=1):\n",
      "STOP: TOTAL NO. of ITERATIONS REACHED LIMIT.\n",
      "\n",
      "Increase the number of iterations (max_iter) or scale the data as shown in:\n",
      "    https://scikit-learn.org/stable/modules/preprocessing.html\n",
      "Please also refer to the documentation for alternative solver options:\n",
      "    https://scikit-learn.org/stable/modules/linear_model.html#logistic-regression\n",
      "\n"
     ]
    },
    {
     "name": "stdout",
     "output_type": "stream",
     "text": [
      "LogisticRegression() : 88.1578947368421\n",
      "DecisionTreeClassifier() : 78.94736842105263\n",
      "RandomForestClassifier() : 84.21052631578947\n",
      "KNeighborsClassifier() : 69.73684210526315\n",
      "MLPClassifier() : 81.57894736842105\n",
      "KNeighborsClassifier() : 69.73684210526315\n",
      "XGBClassifier(base_score=0.5, booster='gbtree', callbacks=None,\n",
      "              colsample_bylevel=1, colsample_bynode=1, colsample_bytree=1,\n",
      "              early_stopping_rounds=None, enable_categorical=False,\n",
      "              eval_metric=None, gamma=0, gpu_id=-1, grow_policy='depthwise',\n",
      "              importance_type=None, interaction_constraints='',\n",
      "              learning_rate=0.300000012, max_bin=256, max_cat_to_onehot=4,\n",
      "              max_delta_step=0, max_depth=6, max_leaves=0, min_child_weight=1,\n",
      "              missing=nan, monotone_constraints='()', n_estimators=100,\n",
      "              n_jobs=0, num_parallel_tree=1, predictor='auto', random_state=0,\n",
      "              reg_alpha=0, reg_lambda=1, ...) : 81.57894736842105\n",
      "SVC() : 69.73684210526315\n"
     ]
    }
   ],
   "source": [
    "# make for loop for classification \n",
    "\n",
    "li = [LR,DTR,RFR,KNR,MLP,KNR,XGB,SVR]\n",
    "d = {}\n",
    "for i in li:\n",
    "    i.fit(X_train,y_train)\n",
    "    ypred = i.predict(X_test)\n",
    "    print(i,\":\",accuracy_score(y_test,ypred)*100)\n",
    "    d.update({str(i):i.score(X_test,y_test)*100})"
   ]
  },
  {
   "cell_type": "markdown",
   "id": "5afc0451",
   "metadata": {
    "papermill": {
     "duration": 0.054554,
     "end_time": "2022-05-02T01:27:22.530064",
     "exception": false,
     "start_time": "2022-05-02T01:27:22.475510",
     "status": "completed"
    },
    "tags": []
   },
   "source": [
    "- we see the best model  **LogisticRegression = 88%**\n"
   ]
  },
  {
   "cell_type": "code",
   "execution_count": 19,
   "id": "48f2fd62",
   "metadata": {
    "execution": {
     "iopub.execute_input": "2022-05-02T01:27:22.631520Z",
     "iopub.status.busy": "2022-05-02T01:27:22.631179Z",
     "iopub.status.idle": "2022-05-02T01:27:22.989322Z",
     "shell.execute_reply": "2022-05-02T01:27:22.988089Z"
    },
    "papermill": {
     "duration": 0.411919,
     "end_time": "2022-05-02T01:27:22.992049",
     "exception": false,
     "start_time": "2022-05-02T01:27:22.580130",
     "status": "completed"
    },
    "tags": []
   },
   "outputs": [
    {
     "data": {
      "image/png": "[encoded data removed]",
      "text/plain": [
       "<Figure size 2160x432 with 1 Axes>"
      ]
     },
     "metadata": {
      "needs_background": "light"
     },
     "output_type": "display_data"
    }
   ],
   "source": [
    "# make graph about Accuracy\n",
    "\n",
    "plt.figure(figsize=(30, 6))\n",
    "plt.title(\"Algorithm vs Accuracy\")\n",
    "plt.xlabel(\"Algorithm\")\n",
    "plt.ylabel(\"Accuracy\")\n",
    "plt.plot(d.keys(),d.values(),marker='o',color='red')\n",
    "plt.show()"
   ]
  },
  {
   "cell_type": "markdown",
   "id": "083d89d5",
   "metadata": {
    "papermill": {
     "duration": 0.05393,
     "end_time": "2022-05-02T01:27:23.099158",
     "exception": false,
     "start_time": "2022-05-02T01:27:23.045228",
     "status": "completed"
    },
    "tags": []
   },
   "source": [
    "# Model Selection Results 😃😃😃\n",
    "\n",
    "- Logistic Regression =  88.1 %\n",
    "- Decision Tree Classifier = 76.3 %\n",
    "- Random Forest Classifier =  81.5 %\n",
    "- K Neighbors Classifier = 69.7 %\n",
    "- MLP Classifier = 82.89 %\n",
    "- K Neighbors Classifier =  69.7 %\n",
    "- XGB Classifier =  81.5 %\n",
    "- SVC =  69.7 %\n",
    "\n",
    "### So , the best model Logistic Regression\n",
    "\n",
    "### You can change parameter in the library , maybe get better accuracy "
   ]
  },
  {
   "cell_type": "markdown",
   "id": "0f9e1c7b",
   "metadata": {
    "papermill": {
     "duration": 0.052653,
     "end_time": "2022-05-02T01:27:23.205948",
     "exception": false,
     "start_time": "2022-05-02T01:27:23.153295",
     "status": "completed"
    },
    "tags": []
   },
   "source": [
    "# Notes 😃😃😃😃\n",
    "\n",
    "- Thank for reading my analysis and my classification. 😃😃😃😃\n",
    "\n",
    "- If you any questions or advice me please write in the comment . ❤️❤️❤️❤️\n",
    "\n",
    "- If anyone has a model with a higher percentage, please tell me 🤝🤝🤝, it`s will support me .\n",
    "\n",
    "# Vote ❤️😃\n",
    "\n",
    "- If you liked my work upvote me ,\n",
    "\n",
    "\n",
    "# The End 🤝🎉🤝🎉"
   ]
  }
 ],
 "metadata": {
  "kernelspec": {
   "display_name": "Python 3",
   "language": "python",
   "name": "python3"
  },
  "language_info": {
   "codemirror_mode": {
    "name": "ipython",
    "version": 3
   },
   "file_extension": ".py",
   "mimetype": "text/x-python",
   "name": "python",
   "nbconvert_exporter": "python",
   "pygments_lexer": "ipython3",
   "version": "3.7.12"
  },
  "papermill": {
   "default_parameters": {},
   "duration": 23.31773,
   "end_time": "2022-05-02T01:27:24.283549",
   "environment_variables": {},
   "exception": null,
   "input_path": "__notebook__.ipynb",
   "output_path": "__notebook__.ipynb",
   "parameters": {},
   "start_time": "2022-05-02T01:27:00.965819",
   "version": "2.3.4"
  }
 },
 "nbformat": 4,
 "nbformat_minor": 5
}
